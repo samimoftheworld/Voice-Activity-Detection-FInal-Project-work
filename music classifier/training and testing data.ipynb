{
 "cells": [
  {
   "cell_type": "markdown",
   "metadata": {},
   "source": [
    "Music/Speech classification using PNN\n",
    "-------------------------------------\n",
    "A similar dataset which was collected for the purposes of\n",
    "music/speech discrimination. The dataset consists of 120 tracks,\n",
    "each 30 seconds long. Each class (music/speech) has 60 examples.\n",
    "The tracks are all 22050Hz Mono 16-bit audio files in .wav format.\n",
    "Dataset page: http://marsyasweb.appspot.com/download/data_sets/\n",
    "Dataset file: http://opihi.cs.uvic.ca/sound/music_speech.tar.gz"
   ]
  },
  {
   "cell_type": "code",
   "execution_count": 1,
   "metadata": {
    "collapsed": true
   },
   "outputs": [],
   "source": [
    "import numpy as np\n",
    "from neupy import algorithms\n",
    "from sklearn import preprocessing, model_selection, metrics, decomposition\n",
    "import matplotlib.pyplot as plt\n",
    "from librosa.feature import mfcc\n",
    "from sklearn.utils import shuffle\n",
    "\n",
    "from getdata import train_test_data, parser\n"
   ]
  },
  {
   "cell_type": "code",
   "execution_count": 2,
   "metadata": {
    "collapsed": true
   },
   "outputs": [],
   "source": [
    "plt.style.use('ggplot')\n",
    "parser.add_argument('--pca', '-p', dest='apply_pca', default=False,\n",
    "                    action='store_true',\n",
    "                    help=\"Apply PCA for the train data set visualization\")\n",
    "\n",
    "x_train, x_test, y_train, y_test = train_test_data()\n",
    "\n"
   ]
  },
  {
   "cell_type": "code",
   "execution_count": 4,
   "metadata": {
    "collapsed": true
   },
   "outputs": [],
   "source": [
    "def extract_features(data, n_fft=2048):\n",
    "    res = []\n",
    "    for row in data:\n",
    "        centroid = mfcc(row, n_fft=n_fft, sr=22050)\n",
    "        res.append([\n",
    "            np.min(centroid),\n",
    "            np.max(centroid),\n",
    "            np.median(centroid),\n",
    "        ])\n",
    "\n",
    "    return np.array(res)\n",
    "\n"
   ]
  },
  {
   "cell_type": "code",
   "execution_count": 7,
   "metadata": {
    "collapsed": false
   },
   "outputs": [
    {
     "name": "stdout",
     "output_type": "stream",
     "text": [
      "> Data preprocessing procedure\n"
     ]
    },
    {
     "name": "stderr",
     "output_type": "stream",
     "text": [
      "usage: __main__.py [-h] [--seed SEED] [--pca]\n",
      "__main__.py: error: unrecognized arguments: -f /run/user/1000/jupyter/kernel-c0edf252-921d-496b-a2fe-6ffab22c62a3.json\n"
     ]
    },
    {
     "ename": "SystemExit",
     "evalue": "2",
     "output_type": "error",
     "traceback": [
      "An exception has occurred, use %tb to see the full traceback.\n",
      "\u001b[0;31mSystemExit\u001b[0m\u001b[0;31m:\u001b[0m 2\n"
     ]
    }
   ],
   "source": [
    "print(\"> Data preprocessing procedure\")\n",
    "\n",
    "args = parser.parse_args()\n",
    "\n",
    "if args.seed is not None:\n",
    "    np.random.seed(args.seed)\n",
    "\n",
    "std = 0.2\n",
    "n_fft = 128\n",
    "\n",
    "print(\"STD = {}\".format(std))\n",
    "print(\"#FFT = {}\".format(n_fft))\n"
   ]
  },
  {
   "cell_type": "code",
   "execution_count": 8,
   "metadata": {
    "collapsed": false
   },
   "outputs": [
    {
     "ename": "NameError",
     "evalue": "name 'n_fft' is not defined",
     "output_type": "error",
     "traceback": [
      "\u001b[0;31m---------------------------------------------------------------------------\u001b[0m",
      "\u001b[0;31mNameError\u001b[0m                                 Traceback (most recent call last)",
      "\u001b[0;32m<ipython-input-8-976f14bc3208>\u001b[0m in \u001b[0;36m<module>\u001b[0;34m()\u001b[0m\n\u001b[1;32m      1\u001b[0m \u001b[0mscaler\u001b[0m \u001b[0;34m=\u001b[0m \u001b[0mpreprocessing\u001b[0m\u001b[0;34m.\u001b[0m\u001b[0mMinMaxScaler\u001b[0m\u001b[0;34m(\u001b[0m\u001b[0;34m)\u001b[0m\u001b[0;34m\u001b[0m\u001b[0m\n\u001b[0;32m----> 2\u001b[0;31m \u001b[0mx_train\u001b[0m \u001b[0;34m=\u001b[0m \u001b[0mscaler\u001b[0m\u001b[0;34m.\u001b[0m\u001b[0mfit_transform\u001b[0m\u001b[0;34m(\u001b[0m\u001b[0mextract_features\u001b[0m\u001b[0;34m(\u001b[0m\u001b[0mx_train\u001b[0m\u001b[0;34m,\u001b[0m \u001b[0mn_fft\u001b[0m\u001b[0;34m=\u001b[0m\u001b[0mn_fft\u001b[0m\u001b[0;34m)\u001b[0m\u001b[0;34m)\u001b[0m\u001b[0;34m\u001b[0m\u001b[0m\n\u001b[0m\u001b[1;32m      3\u001b[0m \u001b[0mx_test\u001b[0m \u001b[0;34m=\u001b[0m \u001b[0mscaler\u001b[0m\u001b[0;34m.\u001b[0m\u001b[0mtransform\u001b[0m\u001b[0;34m(\u001b[0m\u001b[0mextract_features\u001b[0m\u001b[0;34m(\u001b[0m\u001b[0mx_test\u001b[0m\u001b[0;34m,\u001b[0m \u001b[0mn_fft\u001b[0m\u001b[0;34m=\u001b[0m\u001b[0mn_fft\u001b[0m\u001b[0;34m)\u001b[0m\u001b[0;34m)\u001b[0m\u001b[0;34m\u001b[0m\u001b[0m\n\u001b[1;32m      4\u001b[0m \u001b[0mx_train\u001b[0m\u001b[0;34m,\u001b[0m \u001b[0my_train\u001b[0m \u001b[0;34m=\u001b[0m \u001b[0mshuffle\u001b[0m\u001b[0;34m(\u001b[0m\u001b[0mx_train\u001b[0m\u001b[0;34m,\u001b[0m \u001b[0my_train\u001b[0m\u001b[0;34m)\u001b[0m\u001b[0;34m\u001b[0m\u001b[0m\n\u001b[1;32m      5\u001b[0m \u001b[0;34m\u001b[0m\u001b[0m\n",
      "\u001b[0;31mNameError\u001b[0m: name 'n_fft' is not defined"
     ]
    }
   ],
   "source": [
    "scaler = preprocessing.MinMaxScaler()\n",
    "x_train = scaler.fit_transform(extract_features(x_train, n_fft=n_fft))\n",
    "x_test = scaler.transform(extract_features(x_test, n_fft=n_fft))\n",
    "x_train, y_train = shuffle(x_train, y_train)\n",
    "\n",
    "if args.apply_pca:\n",
    "    pca = decomposition.PCA(2)\n",
    "    plt.scatter(*pca.fit_transform(x_train).T, c=y_train, s=100)\n",
    "    plt.show()\n",
    "    print(\"PCA explain {:.2%}\".format(pca.explained_variance_ratio_.sum()))\n",
    "\n",
    "print(\"\\n> Train prediction\")\n",
    "\n"
   ]
  },
  {
   "cell_type": "code",
   "execution_count": null,
   "metadata": {
    "collapsed": true
   },
   "outputs": [],
   "source": [
    "skf = model_selection.StratifiedKFold(n_splits=5)\n",
    "skf_iterator = skf.split(x_train, y_train)\n",
    "scores = []\n"
   ]
  },
  {
   "cell_type": "code",
   "execution_count": null,
   "metadata": {
    "collapsed": true
   },
   "outputs": [],
   "source": [
    "\n",
    "for i, (train_index, test_index) in enumerate(skf_iterator, start=1):\n",
    "    print(\"\\nK-fold #{}\".format(i))\n",
    "    pnnet = algorithms.PNN(std=std, verbose=False)\n",
    "\n",
    "    x_fold_train, x_fold_test = x_train[train_index], x_train[test_index]\n",
    "    y_fold_train, y_fold_test = y_train[train_index], y_train[test_index]\n",
    "\n",
    "    pnnet.fit(x_fold_train, y_fold_train)\n",
    "    y_predicted = pnnet.predict(x_fold_test)\n",
    "    score = metrics.roc_auc_score(y_predicted, y_fold_test)\n",
    "    accurucy = metrics.accuracy_score(y_predicted, y_fold_test)\n",
    "    scores.append(score)\n",
    "\n",
    "    print(\"ROC AUC score: {:.4f}\".format(score))\n",
    "    print(\"Accurucy: {:.2%}\".format(accurucy))\n",
    "    print(metrics.confusion_matrix(y_predicted, y_fold_test))\n",
    "\n"
   ]
  },
  {
   "cell_type": "code",
   "execution_count": null,
   "metadata": {
    "collapsed": true
   },
   "outputs": [],
   "source": [
    "print(\"Average ROC AUC score: {:.4f}\".format(np.mean(scores)))\n",
    "\n",
    "print(\"\\n> Test prediction\")\n",
    "pnnet = algorithms.PNN(std=std, verbose=False)\n",
    "pnnet.fit(x_train, y_train)\n",
    "y_predicted = pnnet.predict(x_test)\n",
    "test_accurucy = metrics.roc_auc_score(y_predicted, y_test)\n",
    "print(\"Test data accurucy: {:.4f}\".format(test_accurucy))"
   ]
  },
  {
   "cell_type": "code",
   "execution_count": 9,
   "metadata": {
    "collapsed": false
   },
   "outputs": [
    {
     "ename": "ArgumentError",
     "evalue": "argument --pca/-p: conflicting option string(s): --pca, -p",
     "output_type": "error",
     "traceback": [
      "\u001b[0;31m---------------------------------------------------------------------------\u001b[0m",
      "\u001b[0;31mArgumentError\u001b[0m                             Traceback (most recent call last)",
      "\u001b[0;32m<ipython-input-9-9038728ad1e8>\u001b[0m in \u001b[0;36m<module>\u001b[0;34m()\u001b[0m\n\u001b[1;32m     22\u001b[0m parser.add_argument('--pca', '-p', dest='apply_pca', default=False,\n\u001b[1;32m     23\u001b[0m                     \u001b[0maction\u001b[0m\u001b[0;34m=\u001b[0m\u001b[0;34m'store_true'\u001b[0m\u001b[0;34m,\u001b[0m\u001b[0;34m\u001b[0m\u001b[0m\n\u001b[0;32m---> 24\u001b[0;31m                     help=\"Apply PCA for the train data set visualization\")\n\u001b[0m\u001b[1;32m     25\u001b[0m \u001b[0;34m\u001b[0m\u001b[0m\n\u001b[1;32m     26\u001b[0m \u001b[0mx_train\u001b[0m\u001b[0;34m,\u001b[0m \u001b[0mx_test\u001b[0m\u001b[0;34m,\u001b[0m \u001b[0my_train\u001b[0m\u001b[0;34m,\u001b[0m \u001b[0my_test\u001b[0m \u001b[0;34m=\u001b[0m \u001b[0mtrain_test_data\u001b[0m\u001b[0;34m(\u001b[0m\u001b[0;34m)\u001b[0m\u001b[0;34m\u001b[0m\u001b[0m\n",
      "\u001b[0;32m/usr/lib/python2.7/argparse.pyc\u001b[0m in \u001b[0;36madd_argument\u001b[0;34m(self, *args, **kwargs)\u001b[0m\n\u001b[1;32m   1306\u001b[0m                 \u001b[0;32mraise\u001b[0m \u001b[0mValueError\u001b[0m\u001b[0;34m(\u001b[0m\u001b[0;34m\"length of metavar tuple does not match nargs\"\u001b[0m\u001b[0;34m)\u001b[0m\u001b[0;34m\u001b[0m\u001b[0m\n\u001b[1;32m   1307\u001b[0m \u001b[0;34m\u001b[0m\u001b[0m\n\u001b[0;32m-> 1308\u001b[0;31m         \u001b[0;32mreturn\u001b[0m \u001b[0mself\u001b[0m\u001b[0;34m.\u001b[0m\u001b[0m_add_action\u001b[0m\u001b[0;34m(\u001b[0m\u001b[0maction\u001b[0m\u001b[0;34m)\u001b[0m\u001b[0;34m\u001b[0m\u001b[0m\n\u001b[0m\u001b[1;32m   1309\u001b[0m \u001b[0;34m\u001b[0m\u001b[0m\n\u001b[1;32m   1310\u001b[0m     \u001b[0;32mdef\u001b[0m \u001b[0madd_argument_group\u001b[0m\u001b[0;34m(\u001b[0m\u001b[0mself\u001b[0m\u001b[0;34m,\u001b[0m \u001b[0;34m*\u001b[0m\u001b[0margs\u001b[0m\u001b[0;34m,\u001b[0m \u001b[0;34m**\u001b[0m\u001b[0mkwargs\u001b[0m\u001b[0;34m)\u001b[0m\u001b[0;34m:\u001b[0m\u001b[0;34m\u001b[0m\u001b[0m\n",
      "\u001b[0;32m/usr/lib/python2.7/argparse.pyc\u001b[0m in \u001b[0;36m_add_action\u001b[0;34m(self, action)\u001b[0m\n\u001b[1;32m   1680\u001b[0m     \u001b[0;32mdef\u001b[0m \u001b[0m_add_action\u001b[0m\u001b[0;34m(\u001b[0m\u001b[0mself\u001b[0m\u001b[0;34m,\u001b[0m \u001b[0maction\u001b[0m\u001b[0;34m)\u001b[0m\u001b[0;34m:\u001b[0m\u001b[0;34m\u001b[0m\u001b[0m\n\u001b[1;32m   1681\u001b[0m         \u001b[0;32mif\u001b[0m \u001b[0maction\u001b[0m\u001b[0;34m.\u001b[0m\u001b[0moption_strings\u001b[0m\u001b[0;34m:\u001b[0m\u001b[0;34m\u001b[0m\u001b[0m\n\u001b[0;32m-> 1682\u001b[0;31m             \u001b[0mself\u001b[0m\u001b[0;34m.\u001b[0m\u001b[0m_optionals\u001b[0m\u001b[0;34m.\u001b[0m\u001b[0m_add_action\u001b[0m\u001b[0;34m(\u001b[0m\u001b[0maction\u001b[0m\u001b[0;34m)\u001b[0m\u001b[0;34m\u001b[0m\u001b[0m\n\u001b[0m\u001b[1;32m   1683\u001b[0m         \u001b[0;32melse\u001b[0m\u001b[0;34m:\u001b[0m\u001b[0;34m\u001b[0m\u001b[0m\n\u001b[1;32m   1684\u001b[0m             \u001b[0mself\u001b[0m\u001b[0;34m.\u001b[0m\u001b[0m_positionals\u001b[0m\u001b[0;34m.\u001b[0m\u001b[0m_add_action\u001b[0m\u001b[0;34m(\u001b[0m\u001b[0maction\u001b[0m\u001b[0;34m)\u001b[0m\u001b[0;34m\u001b[0m\u001b[0m\n",
      "\u001b[0;32m/usr/lib/python2.7/argparse.pyc\u001b[0m in \u001b[0;36m_add_action\u001b[0;34m(self, action)\u001b[0m\n\u001b[1;32m   1507\u001b[0m \u001b[0;34m\u001b[0m\u001b[0m\n\u001b[1;32m   1508\u001b[0m     \u001b[0;32mdef\u001b[0m \u001b[0m_add_action\u001b[0m\u001b[0;34m(\u001b[0m\u001b[0mself\u001b[0m\u001b[0;34m,\u001b[0m \u001b[0maction\u001b[0m\u001b[0;34m)\u001b[0m\u001b[0;34m:\u001b[0m\u001b[0;34m\u001b[0m\u001b[0m\n\u001b[0;32m-> 1509\u001b[0;31m         \u001b[0maction\u001b[0m \u001b[0;34m=\u001b[0m \u001b[0msuper\u001b[0m\u001b[0;34m(\u001b[0m\u001b[0m_ArgumentGroup\u001b[0m\u001b[0;34m,\u001b[0m \u001b[0mself\u001b[0m\u001b[0;34m)\u001b[0m\u001b[0;34m.\u001b[0m\u001b[0m_add_action\u001b[0m\u001b[0;34m(\u001b[0m\u001b[0maction\u001b[0m\u001b[0;34m)\u001b[0m\u001b[0;34m\u001b[0m\u001b[0m\n\u001b[0m\u001b[1;32m   1510\u001b[0m         \u001b[0mself\u001b[0m\u001b[0;34m.\u001b[0m\u001b[0m_group_actions\u001b[0m\u001b[0;34m.\u001b[0m\u001b[0mappend\u001b[0m\u001b[0;34m(\u001b[0m\u001b[0maction\u001b[0m\u001b[0;34m)\u001b[0m\u001b[0;34m\u001b[0m\u001b[0m\n\u001b[1;32m   1511\u001b[0m         \u001b[0;32mreturn\u001b[0m \u001b[0maction\u001b[0m\u001b[0;34m\u001b[0m\u001b[0m\n",
      "\u001b[0;32m/usr/lib/python2.7/argparse.pyc\u001b[0m in \u001b[0;36m_add_action\u001b[0;34m(self, action)\u001b[0m\n\u001b[1;32m   1320\u001b[0m     \u001b[0;32mdef\u001b[0m \u001b[0m_add_action\u001b[0m\u001b[0;34m(\u001b[0m\u001b[0mself\u001b[0m\u001b[0;34m,\u001b[0m \u001b[0maction\u001b[0m\u001b[0;34m)\u001b[0m\u001b[0;34m:\u001b[0m\u001b[0;34m\u001b[0m\u001b[0m\n\u001b[1;32m   1321\u001b[0m         \u001b[0;31m# resolve any conflicts\u001b[0m\u001b[0;34m\u001b[0m\u001b[0;34m\u001b[0m\u001b[0m\n\u001b[0;32m-> 1322\u001b[0;31m         \u001b[0mself\u001b[0m\u001b[0;34m.\u001b[0m\u001b[0m_check_conflict\u001b[0m\u001b[0;34m(\u001b[0m\u001b[0maction\u001b[0m\u001b[0;34m)\u001b[0m\u001b[0;34m\u001b[0m\u001b[0m\n\u001b[0m\u001b[1;32m   1323\u001b[0m \u001b[0;34m\u001b[0m\u001b[0m\n\u001b[1;32m   1324\u001b[0m         \u001b[0;31m# add to actions list\u001b[0m\u001b[0;34m\u001b[0m\u001b[0;34m\u001b[0m\u001b[0m\n",
      "\u001b[0;32m/usr/lib/python2.7/argparse.pyc\u001b[0m in \u001b[0;36m_check_conflict\u001b[0;34m(self, action)\u001b[0m\n\u001b[1;32m   1458\u001b[0m         \u001b[0;32mif\u001b[0m \u001b[0mconfl_optionals\u001b[0m\u001b[0;34m:\u001b[0m\u001b[0;34m\u001b[0m\u001b[0m\n\u001b[1;32m   1459\u001b[0m             \u001b[0mconflict_handler\u001b[0m \u001b[0;34m=\u001b[0m \u001b[0mself\u001b[0m\u001b[0;34m.\u001b[0m\u001b[0m_get_handler\u001b[0m\u001b[0;34m(\u001b[0m\u001b[0;34m)\u001b[0m\u001b[0;34m\u001b[0m\u001b[0m\n\u001b[0;32m-> 1460\u001b[0;31m             \u001b[0mconflict_handler\u001b[0m\u001b[0;34m(\u001b[0m\u001b[0maction\u001b[0m\u001b[0;34m,\u001b[0m \u001b[0mconfl_optionals\u001b[0m\u001b[0;34m)\u001b[0m\u001b[0;34m\u001b[0m\u001b[0m\n\u001b[0m\u001b[1;32m   1461\u001b[0m \u001b[0;34m\u001b[0m\u001b[0m\n\u001b[1;32m   1462\u001b[0m     \u001b[0;32mdef\u001b[0m \u001b[0m_handle_conflict_error\u001b[0m\u001b[0;34m(\u001b[0m\u001b[0mself\u001b[0m\u001b[0;34m,\u001b[0m \u001b[0maction\u001b[0m\u001b[0;34m,\u001b[0m \u001b[0mconflicting_actions\u001b[0m\u001b[0;34m)\u001b[0m\u001b[0;34m:\u001b[0m\u001b[0;34m\u001b[0m\u001b[0m\n",
      "\u001b[0;32m/usr/lib/python2.7/argparse.pyc\u001b[0m in \u001b[0;36m_handle_conflict_error\u001b[0;34m(self, action, conflicting_actions)\u001b[0m\n\u001b[1;32m   1465\u001b[0m                                      \u001b[0;32mfor\u001b[0m \u001b[0moption_string\u001b[0m\u001b[0;34m,\u001b[0m \u001b[0maction\u001b[0m\u001b[0;34m\u001b[0m\u001b[0m\n\u001b[1;32m   1466\u001b[0m                                      in conflicting_actions])\n\u001b[0;32m-> 1467\u001b[0;31m         \u001b[0;32mraise\u001b[0m \u001b[0mArgumentError\u001b[0m\u001b[0;34m(\u001b[0m\u001b[0maction\u001b[0m\u001b[0;34m,\u001b[0m \u001b[0mmessage\u001b[0m \u001b[0;34m%\u001b[0m \u001b[0mconflict_string\u001b[0m\u001b[0;34m)\u001b[0m\u001b[0;34m\u001b[0m\u001b[0m\n\u001b[0m\u001b[1;32m   1468\u001b[0m \u001b[0;34m\u001b[0m\u001b[0m\n\u001b[1;32m   1469\u001b[0m     \u001b[0;32mdef\u001b[0m \u001b[0m_handle_conflict_resolve\u001b[0m\u001b[0;34m(\u001b[0m\u001b[0mself\u001b[0m\u001b[0;34m,\u001b[0m \u001b[0maction\u001b[0m\u001b[0;34m,\u001b[0m \u001b[0mconflicting_actions\u001b[0m\u001b[0;34m)\u001b[0m\u001b[0;34m:\u001b[0m\u001b[0;34m\u001b[0m\u001b[0m\n",
      "\u001b[0;31mArgumentError\u001b[0m: argument --pca/-p: conflicting option string(s): --pca, -p"
     ]
    }
   ],
   "source": [
    "\"\"\"\n",
    "Music/Speech classification using PNN\n",
    "-------------------------------------\n",
    "A similar dataset which was collected for the purposes of\n",
    "music/speech discrimination. The dataset consists of 120 tracks,\n",
    "each 30 seconds long. Each class (music/speech) has 60 examples.\n",
    "The tracks are all 22050Hz Mono 16-bit audio files in .wav format.\n",
    "Dataset page: http://marsyasweb.appspot.com/download/data_sets/\n",
    "Dataset file: http://opihi.cs.uvic.ca/sound/music_speech.tar.gz\n",
    "\"\"\"\n",
    "import numpy as np\n",
    "from neupy import algorithms\n",
    "from sklearn import preprocessing, model_selection, metrics, decomposition\n",
    "import matplotlib.pyplot as plt\n",
    "from librosa.feature import mfcc\n",
    "from sklearn.utils import shuffle\n",
    "\n",
    "from getdata import train_test_data, parser\n",
    "\n",
    "\n",
    "plt.style.use('ggplot')\n",
    "parser.add_argument('--pca', '-p', dest='apply_pca', default=False,\n",
    "                    action='store_true',\n",
    "                    help=\"Apply PCA for the train data set visualization\")\n",
    "\n",
    "x_train, x_test, y_train, y_test = train_test_data()\n",
    "\n",
    "\n",
    "def extract_features(data, n_fft=2048):\n",
    "    res = []\n",
    "    for row in data:\n",
    "        centroid = mfcc(row, n_fft=n_fft, sr=22050)\n",
    "        res.append([\n",
    "            np.min(centroid),\n",
    "            np.max(centroid),\n",
    "            np.median(centroid),\n",
    "        ])\n",
    "\n",
    "    return np.array(res)\n",
    "\n",
    "\n",
    "print(\"> Data preprocessing procedure\")\n",
    "\n",
    "args = parser.parse_args()\n",
    "\n",
    "if args.seed is not None:\n",
    "    np.random.seed(args.seed)\n",
    "\n",
    "std = 0.2\n",
    "n_fft = 128\n",
    "\n",
    "print(\"STD = {}\".format(std))\n",
    "print(\"#FFT = {}\".format(n_fft))\n",
    "\n",
    "scaler = preprocessing.MinMaxScaler()\n",
    "x_train = scaler.fit_transform(extract_features(x_train, n_fft=n_fft))\n",
    "x_test = scaler.transform(extract_features(x_test, n_fft=n_fft))\n",
    "x_train, y_train = shuffle(x_train, y_train)\n",
    "\n",
    "if args.apply_pca:\n",
    "    pca = decomposition.PCA(2)\n",
    "    plt.scatter(*pca.fit_transform(x_train).T, c=y_train, s=100)\n",
    "    plt.show()\n",
    "    print(\"PCA explain {:.2%}\".format(pca.explained_variance_ratio_.sum()))\n",
    "\n",
    "print(\"\\n> Train prediction\")\n",
    "\n",
    "skf = model_selection.StratifiedKFold(n_splits=5)\n",
    "skf_iterator = skf.split(x_train, y_train)\n",
    "scores = []\n",
    "\n",
    "for i, (train_index, test_index) in enumerate(skf_iterator, start=1):\n",
    "    print(\"\\nK-fold #{}\".format(i))\n",
    "    pnnet = algorithms.PNN(std=std, verbose=False)\n",
    "\n",
    "    x_fold_train, x_fold_test = x_train[train_index], x_train[test_index]\n",
    "    y_fold_train, y_fold_test = y_train[train_index], y_train[test_index]\n",
    "\n",
    "    pnnet.fit(x_fold_train, y_fold_train)\n",
    "    y_predicted = pnnet.predict(x_fold_test)\n",
    "    score = metrics.roc_auc_score(y_predicted, y_fold_test)\n",
    "    accurucy = metrics.accuracy_score(y_predicted, y_fold_test)\n",
    "    scores.append(score)\n",
    "\n",
    "    print(\"ROC AUC score: {:.4f}\".format(score))\n",
    "    print(\"Accurucy: {:.2%}\".format(accurucy))\n",
    "    print(metrics.confusion_matrix(y_predicted, y_fold_test))\n",
    "\n",
    "print(\"Average ROC AUC score: {:.4f}\".format(np.mean(scores)))\n",
    "\n",
    "print(\"\\n> Test prediction\")\n",
    "pnnet = algorithms.PNN(std=std, verbose=False)\n",
    "pnnet.fit(x_train, y_train)\n",
    "y_predicted = pnnet.predict(x_test)\n",
    "test_accurucy = metrics.roc_auc_score(y_predicted, y_test)\n",
    "print(\"Test data accurucy: {:.4f}\".format(test_accurucy))"
   ]
  },
  {
   "cell_type": "code",
   "execution_count": null,
   "metadata": {
    "collapsed": true
   },
   "outputs": [],
   "source": []
  }
 ],
 "metadata": {
  "kernelspec": {
   "display_name": "Python 2",
   "language": "python",
   "name": "python2"
  },
  "language_info": {
   "codemirror_mode": {
    "name": "ipython",
    "version": 2
   },
   "file_extension": ".py",
   "mimetype": "text/x-python",
   "name": "python",
   "nbconvert_exporter": "python",
   "pygments_lexer": "ipython2",
   "version": "2.7.12"
  }
 },
 "nbformat": 4,
 "nbformat_minor": 2
}
